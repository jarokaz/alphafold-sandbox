{
 "cells": [
  {
   "cell_type": "markdown",
   "id": "43dd1c67",
   "metadata": {},
   "source": [
    "# AlphaFold Sandbox\n"
   ]
  },
  {
   "cell_type": "code",
   "execution_count": 1,
   "id": "57834e14",
   "metadata": {},
   "outputs": [],
   "source": [
    "import os\n",
    "\n",
    "os.environ['TF_FORCE_UNIFIED_MEMORY'] = '1'\n",
    "os.environ['XLA_PYTHON_CLIENT_MEM_FRACTION'] = '2.0'\n",
    "\n",
    "import json\n",
    "import pathlib\n",
    "import pickle\n",
    "import random\n",
    "import sys\n",
    "import time\n",
    "from tqdm.notebook import tqdm\n",
    "\n",
    "from typing import Dict\n",
    "\n",
    "from absl import app\n",
    "from absl import flags\n",
    "from absl import logging\n",
    "import numpy as np\n",
    "\n",
    "from alphafold.common import protein\n",
    "\n",
    "from alphafold.data import parsers\n",
    "from alphafold.data import pipeline\n",
    "from alphafold.data import templates\n",
    "from alphafold.data.tools import jackhmmer\n",
    "\n",
    "from alphafold.model import data\n",
    "from alphafold.model import config\n",
    "from alphafold.model import model\n",
    "from alphafold.relax import relax\n",
    "from alphafold.relax import utils\n"
   ]
  },
  {
   "cell_type": "code",
   "execution_count": null,
   "id": "26951018",
   "metadata": {},
   "outputs": [],
   "source": []
  },
  {
   "cell_type": "code",
   "execution_count": 2,
   "id": "a37efbf8",
   "metadata": {},
   "outputs": [],
   "source": [
    "PROJECT = 'jk-mlops-dev'\n",
    "REGION = 'us-central1'\n",
    "ALPHAFOLD_DATASETS_BUCKET_NAME = 'jk-alphafold-datasets'\n",
    "STAGING_BUCKET_NAME = 'jk-alphafold-staging'\n",
    "\n",
    "API_ENDPOINT = '{}-aiplatform.googleapis.com'.format(REGION)\n",
    "PARENT = \"projects/\" + PROJECT + \"/locations/\" + REGION\n",
    "\n",
    "ALPHA_FOLD_IMAGE_NAME = f'gcr.io/{PROJECT}/alphafold'"
   ]
  },
  {
   "cell_type": "code",
   "execution_count": 3,
   "id": "420d320c",
   "metadata": {},
   "outputs": [],
   "source": [
    "MIN_SEQUENCE_LENGTH = 16\n",
    "MAX_SEQUENCE_LENGTH = 2500\n",
    "\n",
    "\n",
    "MAX_TEMPLATE_HITS = 20\n",
    "RELAX_MAX_ITERATIONS = 0\n",
    "RELAX_ENERGY_TOLERANCE = 2.39\n",
    "RELAX_STIFFNESS = 10.0\n",
    "RELAX_EXCLUDE_RESIDUES = []\n",
    "RELAX_MAX_OUTER_ITERATIONS = 20\n",
    "\n",
    "PLDDT_BANDS = [(0, 50, '#FF7D45'),\n",
    "               (50, 70, '#FFDB13'),\n",
    "               (70, 90, '#65CBF3'),\n",
    "               (90, 100, '#0053D6')]\n",
    "\n",
    "ALPHAFOLD_DATASETS_ROOT = '/home/jupyter/alphafold-datasets/jk-alphafold-datasets'\n",
    "JACKHMMR_BINARY_PATH = '/usr/bin/jackhmmer'"
   ]
  },
  {
   "cell_type": "markdown",
   "id": "63470146",
   "metadata": {},
   "source": [
    "## Prepare test file"
   ]
  },
  {
   "cell_type": "code",
   "execution_count": 4,
   "id": "779989ce",
   "metadata": {},
   "outputs": [],
   "source": [
    "sequence = 'MAAHKGAEHHHKAAEHHEQAAKHHHAAAEHHEKGEHEQAAHHADTAYAHHKHAEEHAAQAAKHDAEHHAPKPH' \n",
    "sequence_file = 'target.fasts'\n",
    "\n",
    "# Remove all whitespaces, tabs and end lines; upper-case\n",
    "sequence = sequence.translate(str.maketrans('', '', ' \\n\\t')).upper()\n",
    "aatypes = set('ACDEFGHIKLMNPQRSTVWY')  # 20 standard aatypes\n",
    "if not set(sequence).issubset(aatypes):\n",
    "  raise Exception(f'Input sequence contains non-amino acid letters: {set(sequence) - aatypes}. AlphaFold only supports 20 standard amino acids as inputs.')\n",
    "if len(sequence) < MIN_SEQUENCE_LENGTH:\n",
    "  raise Exception(f'Input sequence is too short: {len(sequence)} amino acids, while the minimum is {MIN_SEQUENCE_LENGTH}')\n",
    "if len(sequence) > MAX_SEQUENCE_LENGTH:\n",
    "  raise Exception(f'Input sequence is too long: {len(sequence)} amino acids, while the maximum is {MAX_SEQUENCE_LENGTH}. Please use the full AlphaFold system for long sequences.')\n",
    "\n",
    "with open(sequence_file, 'wt') as f:\n",
    "  f.write(f'>query\\n{sequence}')"
   ]
  },
  {
   "cell_type": "code",
   "execution_count": 5,
   "id": "c413282a",
   "metadata": {},
   "outputs": [
    {
     "name": "stdout",
     "output_type": "stream",
     "text": [
      ">query\n",
      "MAAHKGAEHHHKAAEHHEQAAKHHHAAAEHHEKGEHEQAAHHADTAYAHHKHAEEHAAQAAKHDAEHHAPKPH"
     ]
    }
   ],
   "source": [
    "! cat {sequence_file}"
   ]
  },
  {
   "cell_type": "markdown",
   "id": "c2ba81fc",
   "metadata": {},
   "source": [
    "## Feature Engineering"
   ]
  },
  {
   "cell_type": "markdown",
   "id": "ef7931ab",
   "metadata": {},
   "source": [
    "### Search genetic databases"
   ]
  },
  {
   "cell_type": "code",
   "execution_count": 6,
   "id": "b31da40f",
   "metadata": {},
   "outputs": [
    {
     "data": {
      "application/vnd.jupyter.widget-view+json": {
       "model_id": "de0fe89b38194be5be4e251f8d477d5f",
       "version_major": 2,
       "version_minor": 0
      },
      "text/plain": [
       "  0%|          | 0/3 [00:00<?, ?it/s]"
      ]
     },
     "metadata": {},
     "output_type": "display_data"
    }
   ],
   "source": [
    "dbs = []\n",
    "num_jackhmmer_chunks = {'uniref90': 59, 'smallbfd': 17, 'mgnify': 71}\n",
    "\n",
    "with tqdm(total=3) as pbar:\n",
    "    def jackhmmer_chunk_callback(i):\n",
    "        pbar.update(i)\n",
    "        \n",
    "    pbar.set_description('Searching uniref90')\n",
    "    jackhmmer_uniref90_runner = jackhmmer.Jackhmmer(\n",
    "        binary_path=JACKHMMR_BINARY_PATH,\n",
    "        database_path=os.path.join(ALPHAFOLD_DATASETS_ROOT, 'uniref90', 'uniref90.fasta'),\n",
    "    )\n",
    "    dbs.append(('uniref90', jackhmmer_uniref90_runner.query(sequence_file)))\n",
    "    pbar.update(1)\n",
    "    \n",
    "    pbar.set_description('Searching small_bfd')\n",
    "    jackhmmer_smallbfd_runner = jackhmmer.Jackhmmer(\n",
    "        binary_path=JACKHMMR_BINARY_PATH,\n",
    "        database_path=os.path.join(ALPHAFOLD_DATASETS_ROOT, 'small_bfd', 'bfd-first_non_consensus_sequences.fasta'),\n",
    "    )\n",
    "    dbs.append(('smallbfd', jackhmmer_smallbfd_runner.query(sequence_file)))\n",
    "    pbar.update(1)\n",
    "    \n",
    "    pbar.set_description('Searching mgnify')\n",
    "    jackhmmer_mgnify_runner = jackhmmer.Jackhmmer(\n",
    "        binary_path=JACKHMMR_BINARY_PATH,\n",
    "        database_path=os.path.join(ALPHAFOLD_DATASETS_ROOT, 'mgnify', 'mgy_clusters.fa'),\n",
    "    )\n",
    "    dbs.append(('mgnify', jackhmmer_mgnify_runner.query(sequence_file)))\n",
    "    pbar.update(1)\n",
    "    \n",
    "    "
   ]
  },
  {
   "cell_type": "code",
   "execution_count": 15,
   "id": "91e2d931",
   "metadata": {},
   "outputs": [
    {
     "data": {
      "text/plain": [
       "dict_keys(['sto', 'tbl', 'stderr', 'n_iter', 'e_value'])"
      ]
     },
     "execution_count": 15,
     "metadata": {},
     "output_type": "execute_result"
    }
   ],
   "source": [
    "dbs[0][1][0].keys()"
   ]
  },
  {
   "cell_type": "markdown",
   "id": "7c0e9c78",
   "metadata": {},
   "source": [
    "### Save the results"
   ]
  },
  {
   "cell_type": "code",
   "execution_count": 18,
   "id": "79d91086",
   "metadata": {},
   "outputs": [],
   "source": [
    "results_dir = 'search_results'\n",
    "\n",
    "for db_name, db_results in dbs:\n",
    "    file_name = f'{db_name}.sto'\n",
    "    with open(os.path.join(results_dir, file_name), 'wt') as f:\n",
    "        f.write(db_results[0]['sto'])"
   ]
  },
  {
   "cell_type": "markdown",
   "id": "a55bdcae",
   "metadata": {},
   "source": [
    "### Extract and visualize MSAs"
   ]
  },
  {
   "cell_type": "code",
   "execution_count": 21,
   "id": "2b724620",
   "metadata": {},
   "outputs": [
    {
     "ename": "KeyError",
     "evalue": "'UniRef90_D7BIZ4'",
     "output_type": "error",
     "traceback": [
      "\u001b[0;31m---------------------------------------------------------------------------\u001b[0m",
      "\u001b[0;31mKeyError\u001b[0m                                  Traceback (most recent call last)",
      "\u001b[0;32m/tmp/ipykernel_6103/798816713.py\u001b[0m in \u001b[0;36m<module>\u001b[0;34m\u001b[0m\n\u001b[1;32m     10\u001b[0m         \u001b[0mmsa\u001b[0m\u001b[0;34m,\u001b[0m \u001b[0mdeletion_matrix\u001b[0m\u001b[0;34m,\u001b[0m \u001b[0mtarget_names\u001b[0m \u001b[0;34m=\u001b[0m \u001b[0mparsers\u001b[0m\u001b[0;34m.\u001b[0m\u001b[0mparse_stockholm\u001b[0m\u001b[0;34m(\u001b[0m\u001b[0mresult\u001b[0m\u001b[0;34m[\u001b[0m\u001b[0;34m'sto'\u001b[0m\u001b[0;34m]\u001b[0m\u001b[0;34m)\u001b[0m\u001b[0;34m\u001b[0m\u001b[0;34m\u001b[0m\u001b[0m\n\u001b[1;32m     11\u001b[0m         \u001b[0me_values_dict\u001b[0m \u001b[0;34m=\u001b[0m \u001b[0mparsers\u001b[0m\u001b[0;34m.\u001b[0m\u001b[0mparse_e_values_from_tblout\u001b[0m\u001b[0;34m(\u001b[0m\u001b[0mresult\u001b[0m\u001b[0;34m[\u001b[0m\u001b[0;34m'tbl'\u001b[0m\u001b[0;34m]\u001b[0m\u001b[0;34m)\u001b[0m\u001b[0;34m\u001b[0m\u001b[0;34m\u001b[0m\u001b[0m\n\u001b[0;32m---> 12\u001b[0;31m         \u001b[0me_values\u001b[0m \u001b[0;34m=\u001b[0m \u001b[0;34m[\u001b[0m\u001b[0me_values_dict\u001b[0m\u001b[0;34m[\u001b[0m\u001b[0mt\u001b[0m\u001b[0;34m.\u001b[0m\u001b[0msplit\u001b[0m\u001b[0;34m(\u001b[0m\u001b[0;34m'/'\u001b[0m\u001b[0;34m)\u001b[0m\u001b[0;34m[\u001b[0m\u001b[0;36m0\u001b[0m\u001b[0;34m]\u001b[0m\u001b[0;34m]\u001b[0m \u001b[0;32mfor\u001b[0m \u001b[0mt\u001b[0m \u001b[0;32min\u001b[0m \u001b[0mtarget_names\u001b[0m\u001b[0;34m]\u001b[0m\u001b[0;34m\u001b[0m\u001b[0;34m\u001b[0m\u001b[0m\n\u001b[0m\u001b[1;32m     13\u001b[0m         \u001b[0mzipped_results\u001b[0m \u001b[0;34m=\u001b[0m \u001b[0mzip\u001b[0m\u001b[0;34m(\u001b[0m\u001b[0mmsa\u001b[0m\u001b[0;34m,\u001b[0m \u001b[0mdeletion_matrix\u001b[0m\u001b[0;34m,\u001b[0m \u001b[0mtarget_names\u001b[0m\u001b[0;34m,\u001b[0m \u001b[0me_values\u001b[0m\u001b[0;34m)\u001b[0m\u001b[0;34m\u001b[0m\u001b[0;34m\u001b[0m\u001b[0m\n\u001b[1;32m     14\u001b[0m         \u001b[0;32mif\u001b[0m \u001b[0mi\u001b[0m \u001b[0;34m!=\u001b[0m \u001b[0;36m0\u001b[0m\u001b[0;34m:\u001b[0m\u001b[0;34m\u001b[0m\u001b[0;34m\u001b[0m\u001b[0m\n",
      "\u001b[0;32m/tmp/ipykernel_6103/798816713.py\u001b[0m in \u001b[0;36m<listcomp>\u001b[0;34m(.0)\u001b[0m\n\u001b[1;32m     10\u001b[0m         \u001b[0mmsa\u001b[0m\u001b[0;34m,\u001b[0m \u001b[0mdeletion_matrix\u001b[0m\u001b[0;34m,\u001b[0m \u001b[0mtarget_names\u001b[0m \u001b[0;34m=\u001b[0m \u001b[0mparsers\u001b[0m\u001b[0;34m.\u001b[0m\u001b[0mparse_stockholm\u001b[0m\u001b[0;34m(\u001b[0m\u001b[0mresult\u001b[0m\u001b[0;34m[\u001b[0m\u001b[0;34m'sto'\u001b[0m\u001b[0;34m]\u001b[0m\u001b[0;34m)\u001b[0m\u001b[0;34m\u001b[0m\u001b[0;34m\u001b[0m\u001b[0m\n\u001b[1;32m     11\u001b[0m         \u001b[0me_values_dict\u001b[0m \u001b[0;34m=\u001b[0m \u001b[0mparsers\u001b[0m\u001b[0;34m.\u001b[0m\u001b[0mparse_e_values_from_tblout\u001b[0m\u001b[0;34m(\u001b[0m\u001b[0mresult\u001b[0m\u001b[0;34m[\u001b[0m\u001b[0;34m'tbl'\u001b[0m\u001b[0;34m]\u001b[0m\u001b[0;34m)\u001b[0m\u001b[0;34m\u001b[0m\u001b[0;34m\u001b[0m\u001b[0m\n\u001b[0;32m---> 12\u001b[0;31m         \u001b[0me_values\u001b[0m \u001b[0;34m=\u001b[0m \u001b[0;34m[\u001b[0m\u001b[0me_values_dict\u001b[0m\u001b[0;34m[\u001b[0m\u001b[0mt\u001b[0m\u001b[0;34m.\u001b[0m\u001b[0msplit\u001b[0m\u001b[0;34m(\u001b[0m\u001b[0;34m'/'\u001b[0m\u001b[0;34m)\u001b[0m\u001b[0;34m[\u001b[0m\u001b[0;36m0\u001b[0m\u001b[0;34m]\u001b[0m\u001b[0;34m]\u001b[0m \u001b[0;32mfor\u001b[0m \u001b[0mt\u001b[0m \u001b[0;32min\u001b[0m \u001b[0mtarget_names\u001b[0m\u001b[0;34m]\u001b[0m\u001b[0;34m\u001b[0m\u001b[0;34m\u001b[0m\u001b[0m\n\u001b[0m\u001b[1;32m     13\u001b[0m         \u001b[0mzipped_results\u001b[0m \u001b[0;34m=\u001b[0m \u001b[0mzip\u001b[0m\u001b[0;34m(\u001b[0m\u001b[0mmsa\u001b[0m\u001b[0;34m,\u001b[0m \u001b[0mdeletion_matrix\u001b[0m\u001b[0;34m,\u001b[0m \u001b[0mtarget_names\u001b[0m\u001b[0;34m,\u001b[0m \u001b[0me_values\u001b[0m\u001b[0;34m)\u001b[0m\u001b[0;34m\u001b[0m\u001b[0;34m\u001b[0m\u001b[0m\n\u001b[1;32m     14\u001b[0m         \u001b[0;32mif\u001b[0m \u001b[0mi\u001b[0m \u001b[0;34m!=\u001b[0m \u001b[0;36m0\u001b[0m\u001b[0;34m:\u001b[0m\u001b[0;34m\u001b[0m\u001b[0;34m\u001b[0m\u001b[0m\n",
      "\u001b[0;31mKeyError\u001b[0m: 'UniRef90_D7BIZ4'"
     ]
    }
   ],
   "source": [
    "mgnify_max_hits = 501\n",
    "\n",
    "msas = []\n",
    "deletion_matrices = []\n",
    "full_msa = []\n",
    "\n",
    "for db_name, db_results in dbs:\n",
    "    unsorted_results = []\n",
    "    for i, result in enumerate(db_results):\n",
    "        msa, deletion_matrix, target_names = parsers.parse_stockholm(result['sto'])\n",
    "        e_values_dict = parsers.parse_e_values_from_tblout(result['tbl'])\n",
    "        e_values = [e_values_dict[t.split('/')[0]] for t in target_names]\n",
    "        zipped_results = zip(msa, deletion_matrix, target_names, e_values)\n",
    "        if i != 0:\n",
    "            # Only take query from the first chunk\n",
    "           zipped_results = [x for x in zipped_results if x[2] != 'query']\n",
    "        unsorted_results.extend(zipped_results)\n",
    "  "
   ]
  },
  {
   "cell_type": "code",
   "execution_count": null,
   "id": "70ba98d7",
   "metadata": {},
   "outputs": [],
   "source": []
  }
 ],
 "metadata": {
  "environment": {
   "name": "common-cu110.m75",
   "type": "gcloud",
   "uri": "gcr.io/deeplearning-platform-release/base-cu110:m75"
  },
  "kernelspec": {
   "display_name": "Python [conda env:root] *",
   "language": "python",
   "name": "conda-root-py"
  },
  "language_info": {
   "codemirror_mode": {
    "name": "ipython",
    "version": 3
   },
   "file_extension": ".py",
   "mimetype": "text/x-python",
   "name": "python",
   "nbconvert_exporter": "python",
   "pygments_lexer": "ipython3",
   "version": "3.7.10"
  }
 },
 "nbformat": 4,
 "nbformat_minor": 5
}
