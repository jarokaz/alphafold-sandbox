{
 "cells": [
  {
   "cell_type": "markdown",
   "id": "6025105b",
   "metadata": {},
   "source": [
    "# AlphaFold in Vertex "
   ]
  },
  {
   "cell_type": "code",
   "execution_count": 14,
   "id": "259d8475",
   "metadata": {},
   "outputs": [],
   "source": [
    "import os\n",
    "import pprint\n",
    "import time\n",
    "\n",
    "from google.cloud.aiplatform.gapic import \\\n",
    "    JobServiceClient"
   ]
  },
  {
   "cell_type": "code",
   "execution_count": 15,
   "id": "4e9232b7",
   "metadata": {},
   "outputs": [],
   "source": [
    "PROJECT = 'jk-mlops-dev'\n",
    "REGION = 'us-central1'\n",
    "ALPHAFOLD_DATASETS_BUCKET_NAME = 'jk-alphafold-datasets'\n",
    "STAGING_BUCKET_NAME = 'jk-alphafold-staging'\n",
    "\n",
    "API_ENDPOINT = '{}-aiplatform.googleapis.com'.format(REGION)\n",
    "PARENT = \"projects/\" + PROJECT + \"/locations/\" + REGION\n",
    "\n",
    "ALPHA_FOLD_IMAGE_NAME = f'gcr.io/{PROJECT}/alphafold'"
   ]
  },
  {
   "cell_type": "code",
   "execution_count": 16,
   "id": "436dfdc4",
   "metadata": {},
   "outputs": [
    {
     "name": "stdout",
     "output_type": "stream",
     "text": [
      "gs://jk-alphafold-datasets/bfd/\n",
      "gs://jk-alphafold-datasets/mgnify/\n",
      "gs://jk-alphafold-datasets/params/\n",
      "gs://jk-alphafold-datasets/pdb70/\n",
      "gs://jk-alphafold-datasets/pdb_mmcif/\n",
      "gs://jk-alphafold-datasets/uniclust30/\n",
      "gs://jk-alphafold-datasets/uniref90/\n"
     ]
    }
   ],
   "source": [
    "!gsutil ls gs://{ALPHAFOLD_DATASETS_BUCKET_NAME}"
   ]
  },
  {
   "cell_type": "markdown",
   "id": "5ee0837a",
   "metadata": {},
   "source": [
    "## "
   ]
  },
  {
   "cell_type": "markdown",
   "id": "bf5dfee7",
   "metadata": {},
   "source": [
    "## Create a job"
   ]
  },
  {
   "cell_type": "code",
   "execution_count": 17,
   "id": "43311aef",
   "metadata": {},
   "outputs": [],
   "source": [
    "DOWNLOAD_DIR = os.path.join('/gcs', ALPHAFOLD_DATASETS_BUCKET_NAME)\n",
    "\n",
    "data_dir = DOWNLOAD_DIR\n",
    "\n",
    "# Path to the Uniref90 database for use by JackHMMER.\n",
    "uniref90_database_path = os.path.join(\n",
    "    DOWNLOAD_DIR, 'uniref90', 'uniref90.fasta')\n",
    "\n",
    "# Path to the MGnify database for use by JackHMMER.\n",
    "mgnify_database_path = os.path.join(\n",
    "    DOWNLOAD_DIR, 'mgnify', 'mgy_clusters_2018_08.fa')\n",
    "\n",
    "# Path to the BFD database for use by HHblits.\n",
    "bfd_database_path = os.path.join(\n",
    "    DOWNLOAD_DIR, 'bfd',\n",
    "    'bfd_metaclust_clu_complete_id30_c90_final_seq.sorted_opt')\n",
    "\n",
    "# Path to the Small BFD database for use by JackHMMER.\n",
    "small_bfd_database_path = os.path.join(\n",
    "    DOWNLOAD_DIR, 'small_bfd', 'bfd-first_non_consensus_sequences.fasta')\n",
    "\n",
    "# Path to the Uniclust30 database for use by HHblits.\n",
    "uniclust30_database_path = os.path.join(\n",
    "    DOWNLOAD_DIR, 'uniclust30', 'uniclust30_2018_08', 'uniclust30_2018_08')\n",
    "\n",
    "# Path to the PDB70 database for use by HHsearch.\n",
    "pdb70_database_path = os.path.join(DOWNLOAD_DIR, 'pdb70', 'pdb70')\n",
    "\n",
    "# Path to a directory with template mmCIF structures, each named <pdb_id>.cif')\n",
    "template_mmcif_dir = os.path.join(DOWNLOAD_DIR, 'pdb_mmcif', 'mmcif_files')\n",
    "\n",
    "# Path to a file mapping obsolete PDB IDs to their replacements.\n",
    "obsolete_pdbs_path = os.path.join(DOWNLOAD_DIR, 'pdb_mmcif', 'obsolete.dat')\n",
    "\n",
    "\n",
    "database_paths = [\n",
    "      ('uniref90_database_path', uniref90_database_path),\n",
    "      ('mgnify_database_path', mgnify_database_path),\n",
    "      ('pdb70_database_path', pdb70_database_path),\n",
    "      ('data_dir', data_dir),\n",
    "      ('template_mmcif_dir', template_mmcif_dir),\n",
    "      ('obsolete_pdbs_path', obsolete_pdbs_path),\n",
    "      ('uniclust30_database_path', uniclust30_database_path),\n",
    "      ('bfd_database_path', bfd_database_path),\n",
    "  ]\n",
    "\n",
    "output_target_path = os.path.join('/gcs', STAGING_BUCKET_NAME, 'output')\n",
    "\n",
    "\n",
    "model_names = [\n",
    "    'model_1',\n",
    "    'model_2',\n",
    "    'model_3',\n",
    "    'model_4',\n",
    "    'model_5',\n",
    "]\n",
    "\n",
    "target_fasta_paths = ['/gcs/jk-alphafold-staging/fasta/T1050.fasta']"
   ]
  },
  {
   "cell_type": "code",
   "execution_count": 18,
   "id": "7fcd36d5",
   "metadata": {},
   "outputs": [
    {
     "name": "stdout",
     "output_type": "stream",
     "text": [
      "/gcs/jk-alphafold-datasets/uniref90/uniref90.fasta\n",
      "/gcs/jk-alphafold-datasets/mgnify/mgy_clusters_2018_08.fa\n",
      "/gcs/jk-alphafold-datasets/bfd/bfd_metaclust_clu_complete_id30_c90_final_seq.sorted_opt\n",
      "/gcs/jk-alphafold-datasets/small_bfd/bfd-first_non_consensus_sequences.fasta\n",
      "/gcs/jk-alphafold-datasets/uniclust30/uniclust30_2018_08/uniclust30_2018_08\n",
      "/gcs/jk-alphafold-datasets/pdb70/pdb70\n",
      "/gcs/jk-alphafold-datasets/pdb_mmcif/mmcif_files\n",
      "/gcs/jk-alphafold-datasets/pdb_mmcif/obsolete.dat\n",
      "/gcs/jk-alphafold-staging/output\n",
      "['/gcs/jk-alphafold-staging/fasta/T1050.fasta']\n"
     ]
    }
   ],
   "source": [
    "print(uniref90_database_path)\n",
    "print(mgnify_database_path)\n",
    "print(bfd_database_path)\n",
    "print(small_bfd_database_path)\n",
    "print(uniclust30_database_path)\n",
    "print(pdb70_database_path)\n",
    "print(template_mmcif_dir)\n",
    "print(obsolete_pdbs_path)\n",
    "print(output_target_path)\n",
    "print(target_fasta_paths)\n"
   ]
  },
  {
   "cell_type": "code",
   "execution_count": 19,
   "id": "d964e66c",
   "metadata": {},
   "outputs": [],
   "source": [
    "max_template_date = '2020-05-14'\n",
    "preset = 'full_dbs'\n",
    "benchmark = False\n",
    "\n",
    "command_args = []\n",
    "\n",
    "command_args.append(f'--fasta_paths={\",\".join(target_fasta_paths)}')\n",
    "\n",
    "for name, path in database_paths:\n",
    "    if path:\n",
    "      command_args.append(f'--{name}={path}')\n",
    "\n",
    "command_args.extend([\n",
    "      f'--output_dir={output_target_path}',\n",
    "      f'--model_names={\",\".join(model_names)}',\n",
    "      f'--max_template_date={max_template_date}',\n",
    "      f'--preset={preset}',\n",
    "      f'--benchmark={benchmark}',\n",
    "      '--logtostderr',\n",
    "  ])"
   ]
  },
  {
   "cell_type": "code",
   "execution_count": 20,
   "id": "a14c5f6e",
   "metadata": {},
   "outputs": [
    {
     "data": {
      "text/plain": [
       "['--fasta_paths=/gcs/jk-alphafold-staging/fasta/T1050.fasta',\n",
       " '--uniref90_database_path=/gcs/jk-alphafold-datasets/uniref90/uniref90.fasta',\n",
       " '--mgnify_database_path=/gcs/jk-alphafold-datasets/mgnify/mgy_clusters_2018_08.fa',\n",
       " '--pdb70_database_path=/gcs/jk-alphafold-datasets/pdb70/pdb70',\n",
       " '--data_dir=/gcs/jk-alphafold-datasets',\n",
       " '--template_mmcif_dir=/gcs/jk-alphafold-datasets/pdb_mmcif/mmcif_files',\n",
       " '--obsolete_pdbs_path=/gcs/jk-alphafold-datasets/pdb_mmcif/obsolete.dat',\n",
       " '--uniclust30_database_path=/gcs/jk-alphafold-datasets/uniclust30/uniclust30_2018_08/uniclust30_2018_08',\n",
       " '--bfd_database_path=/gcs/jk-alphafold-datasets/bfd/bfd_metaclust_clu_complete_id30_c90_final_seq.sorted_opt',\n",
       " '--output_dir=/gcs/jk-alphafold-staging/output',\n",
       " '--model_names=model_1,model_2,model_3,model_4,model_5',\n",
       " '--max_template_date=2020-05-14',\n",
       " '--preset=full_dbs',\n",
       " '--benchmark=False',\n",
       " '--logtostderr']"
      ]
     },
     "execution_count": 20,
     "metadata": {},
     "output_type": "execute_result"
    }
   ],
   "source": [
    "command_args"
   ]
  },
  {
   "cell_type": "code",
   "execution_count": 27,
   "id": "91ccf8e5",
   "metadata": {},
   "outputs": [],
   "source": [
    "env_vars=[\n",
    "    {\n",
    "        'name': 'NVIDIA_VISIBLE_DEVICES',\n",
    "        'value': 'all',\n",
    "    },\n",
    "    # The following flags allow us to make predictions on proteins that\n",
    "    # would typically be too long to fit into GPU memory.\n",
    "    {\n",
    "        'name': 'TF_FORCE_UNIFIED_MEMORY',\n",
    "        'value': '1'\n",
    "    },\n",
    "    \n",
    "    {\n",
    "        'name': 'XLA_PYTHON_CLIENT_MEM_FRACTION',\n",
    "        'value': '4.0'\n",
    "    },\n",
    "]"
   ]
  },
  {
   "cell_type": "code",
   "execution_count": 33,
   "id": "05680d00",
   "metadata": {},
   "outputs": [
    {
     "name": "stdout",
     "output_type": "stream",
     "text": [
      "{'display_name': 'ALPHAFOLD_20210726_223716',\n",
      " 'job_spec': {'worker_pool_specs': [{'container_spec': {'args': ['--fasta_paths=/gcs/jk-alphafold-staging/fasta/T1050.fasta',\n",
      "                                                                 '--uniref90_database_path=/gcs/jk-alphafold-datasets/uniref90/uniref90.fasta',\n",
      "                                                                 '--mgnify_database_path=/gcs/jk-alphafold-datasets/mgnify/mgy_clusters_2018_08.fa',\n",
      "                                                                 '--pdb70_database_path=/gcs/jk-alphafold-datasets/pdb70/pdb70',\n",
      "                                                                 '--data_dir=/gcs/jk-alphafold-datasets',\n",
      "                                                                 '--template_mmcif_dir=/gcs/jk-alphafold-datasets/pdb_mmcif/mmcif_files',\n",
      "                                                                 '--obsolete_pdbs_path=/gcs/jk-alphafold-datasets/pdb_mmcif/obsolete.dat',\n",
      "                                                                 '--uniclust30_database_path=/gcs/jk-alphafold-datasets/uniclust30/uniclust30_2018_08/uniclust30_2018_08',\n",
      "                                                                 '--bfd_database_path=/gcs/jk-alphafold-datasets/bfd/bfd_metaclust_clu_complete_id30_c90_final_seq.sorted_opt',\n",
      "                                                                 '--output_dir=/gcs/jk-alphafold-staging/output',\n",
      "                                                                 '--model_names=model_1,model_2,model_3,model_4,model_5',\n",
      "                                                                 '--max_template_date=2020-05-14',\n",
      "                                                                 '--preset=full_dbs',\n",
      "                                                                 '--benchmark=False',\n",
      "                                                                 '--logtostderr'],\n",
      "                                                        'env': [{'name': 'NVIDIA_VISIBLE_DEVICES',\n",
      "                                                                 'value': 'all'},\n",
      "                                                                {'name': 'TF_FORCE_UNIFIED_MEMORY',\n",
      "                                                                 'value': '1'},\n",
      "                                                                {'name': 'XLA_PYTHON_CLIENT_MEM_FRACTION',\n",
      "                                                                 'value': '4.0'}],\n",
      "                                                        'image_uri': 'gcr.io/jk-mlops-dev/alphafold'},\n",
      "                                     'machine_spec': {'accelerator_count': 2,\n",
      "                                                      'accelerator_type': 'NVIDIA_TESLA_T4',\n",
      "                                                      'machine_type': 'n1-standard-16'},\n",
      "                                     'replica_count': 1}]}}\n"
     ]
    }
   ],
   "source": [
    "worker_pool_specs =  [\n",
    "    {\n",
    "        \"machine_spec\": {\n",
    "            #\"machine_type\": \"a2-highgpu-1g\",\n",
    "            #\"accelerator_type\": \"NVIDIA_TESLA_A100\",\n",
    "            \"machine_type\": \"n1-standard-16\",\n",
    "            \"accelerator_type\": \"NVIDIA_TESLA_T4\",\n",
    "            \"accelerator_count\": 2,\n",
    "        },\n",
    "        \"replica_count\": 1,\n",
    "        \"container_spec\": {\n",
    "            \"image_uri\": ALPHA_FOLD_IMAGE_NAME,\n",
    "            \"args\": command_args,\n",
    "            \"env\": env_vars,\n",
    "        },\n",
    "    }\n",
    "]\n",
    "\n",
    "\n",
    "job_name = 'ALPHAFOLD_{}'.format(time.strftime(\"%Y%m%d_%H%M%S\"))\n",
    "\n",
    "custom_job_spec = {\n",
    "    'display_name': job_name,\n",
    "    'job_spec': {\n",
    "        'worker_pool_specs': worker_pool_specs\n",
    "    }\n",
    "}\n",
    "\n",
    "pp = pprint.PrettyPrinter()\n",
    "print(pp.pformat(custom_job_spec))"
   ]
  },
  {
   "cell_type": "code",
   "execution_count": 35,
   "id": "756e0484",
   "metadata": {},
   "outputs": [
    {
     "data": {
      "text/plain": [
       "name: \"projects/895222332033/locations/us-central1/customJobs/4883322565092704256\"\n",
       "display_name: \"ALPHAFOLD_20210726_223716\"\n",
       "job_spec {\n",
       "  worker_pool_specs {\n",
       "    machine_spec {\n",
       "      machine_type: \"n1-standard-16\"\n",
       "      accelerator_type: NVIDIA_TESLA_T4\n",
       "      accelerator_count: 2\n",
       "    }\n",
       "    replica_count: 1\n",
       "    disk_spec {\n",
       "      boot_disk_type: \"pd-ssd\"\n",
       "      boot_disk_size_gb: 100\n",
       "    }\n",
       "    container_spec {\n",
       "      image_uri: \"gcr.io/jk-mlops-dev/alphafold\"\n",
       "      args: \"--fasta_paths=/gcs/jk-alphafold-staging/fasta/T1050.fasta\"\n",
       "      args: \"--uniref90_database_path=/gcs/jk-alphafold-datasets/uniref90/uniref90.fasta\"\n",
       "      args: \"--mgnify_database_path=/gcs/jk-alphafold-datasets/mgnify/mgy_clusters_2018_08.fa\"\n",
       "      args: \"--pdb70_database_path=/gcs/jk-alphafold-datasets/pdb70/pdb70\"\n",
       "      args: \"--data_dir=/gcs/jk-alphafold-datasets\"\n",
       "      args: \"--template_mmcif_dir=/gcs/jk-alphafold-datasets/pdb_mmcif/mmcif_files\"\n",
       "      args: \"--obsolete_pdbs_path=/gcs/jk-alphafold-datasets/pdb_mmcif/obsolete.dat\"\n",
       "      args: \"--uniclust30_database_path=/gcs/jk-alphafold-datasets/uniclust30/uniclust30_2018_08/uniclust30_2018_08\"\n",
       "      args: \"--bfd_database_path=/gcs/jk-alphafold-datasets/bfd/bfd_metaclust_clu_complete_id30_c90_final_seq.sorted_opt\"\n",
       "      args: \"--output_dir=/gcs/jk-alphafold-staging/output\"\n",
       "      args: \"--model_names=model_1,model_2,model_3,model_4,model_5\"\n",
       "      args: \"--max_template_date=2020-05-14\"\n",
       "      args: \"--preset=full_dbs\"\n",
       "      args: \"--benchmark=False\"\n",
       "      args: \"--logtostderr\"\n",
       "      env {\n",
       "        name: \"NVIDIA_VISIBLE_DEVICES\"\n",
       "        value: \"all\"\n",
       "      }\n",
       "      env {\n",
       "        name: \"TF_FORCE_UNIFIED_MEMORY\"\n",
       "        value: \"1\"\n",
       "      }\n",
       "      env {\n",
       "        name: \"XLA_PYTHON_CLIENT_MEM_FRACTION\"\n",
       "        value: \"4.0\"\n",
       "      }\n",
       "    }\n",
       "  }\n",
       "}\n",
       "state: JOB_STATE_PENDING\n",
       "create_time {\n",
       "  seconds: 1627339756\n",
       "  nanos: 394113000\n",
       "}\n",
       "update_time {\n",
       "  seconds: 1627339756\n",
       "  nanos: 394113000\n",
       "}"
      ]
     },
     "execution_count": 35,
     "metadata": {},
     "output_type": "execute_result"
    }
   ],
   "source": [
    "options = dict(api_endpoint=API_ENDPOINT)\n",
    "client = JobServiceClient(client_options=options)\n",
    "\n",
    "response = client.create_custom_job(\n",
    "    parent=PARENT, custom_job=custom_job_spec\n",
    ")\n",
    "\n",
    "response"
   ]
  },
  {
   "cell_type": "code",
   "execution_count": null,
   "id": "dbacafed",
   "metadata": {},
   "outputs": [],
   "source": []
  }
 ],
 "metadata": {
  "environment": {
   "name": "common-cu110.m75",
   "type": "gcloud",
   "uri": "gcr.io/deeplearning-platform-release/base-cu110:m75"
  },
  "kernelspec": {
   "display_name": "Python [conda env:root] *",
   "language": "python",
   "name": "conda-root-py"
  },
  "language_info": {
   "codemirror_mode": {
    "name": "ipython",
    "version": 3
   },
   "file_extension": ".py",
   "mimetype": "text/x-python",
   "name": "python",
   "nbconvert_exporter": "python",
   "pygments_lexer": "ipython3",
   "version": "3.7.10"
  }
 },
 "nbformat": 4,
 "nbformat_minor": 5
}
