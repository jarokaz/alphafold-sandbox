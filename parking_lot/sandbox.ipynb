{
 "cells": [
  {
   "cell_type": "code",
   "execution_count": 1,
   "metadata": {},
   "outputs": [],
   "source": [
    "%load_ext autoreload\n",
    "\n",
    "%autoreload 2"
   ]
  },
  {
   "cell_type": "code",
   "execution_count": 2,
   "metadata": {},
   "outputs": [],
   "source": [
    "import argparse\n",
    "import logging\n",
    "import os\n",
    "import sys\n",
    "import time \n",
    "\n",
    "from pprint import pprint\n",
    "\n",
    "\n",
    "#from . import cls_runner\n",
    "import cls_runner\n",
    "\n",
    "from google.api_core.operation import Operation"
   ]
  },
  {
   "cell_type": "code",
   "execution_count": 3,
   "metadata": {},
   "outputs": [],
   "source": [
    "logging.basicConfig(format='%(asctime)s - %(message)s',\n",
    "                      level=logging.INFO, \n",
    "                      datefmt='%d-%m-%y %H:%M:%S',\n",
    "                      stream=sys.stdout)"
   ]
  },
  {
   "cell_type": "code",
   "execution_count": 4,
   "metadata": {},
   "outputs": [],
   "source": [
    "\n",
    "PROJECT = 'jk-mlops-dev'\n",
    "REGION = 'us-central1'\n"
   ]
  },
  {
   "cell_type": "code",
   "execution_count": null,
   "metadata": {},
   "outputs": [],
   "source": []
  },
  {
   "cell_type": "code",
   "execution_count": 8,
   "metadata": {},
   "outputs": [
    {
     "name": "stdout",
     "output_type": "stream",
     "text": [
      "timestamp {\n",
      "  seconds: 1644094118\n",
      "  nanos: 263415725\n",
      "}\n",
      "description: \"Worker \\\"google-pipelines-worker-bb47304c7fec65b9c2c9cfc0acbdd59c\\\" assigned in \\\"us-central1-a\\\" on a \\\"n1-standard-4\\\" machine\"\n",
      "worker_assigned {\n",
      "  zone: \"us-central1-a\"\n",
      "  instance: \"google-pipelines-worker-bb47304c7fec65b9c2c9cfc0acbdd59c\"\n",
      "  machine_type: \"n1-standard-4\"\n",
      "}\n",
      "\n",
      "timestamp {\n",
      "  seconds: 1644094146\n",
      "  nanos: 755899189\n",
      "}\n",
      "description: \"Started pulling \\\"gcr.io/jk-mlops-dev/alphafold-inference\\\"\"\n",
      "pull_started {\n",
      "  image_uri: \"gcr.io/jk-mlops-dev/alphafold-inference\"\n",
      "}\n",
      "\n",
      "timestamp {\n",
      "  seconds: 1644094340\n",
      "  nanos: 499150847\n",
      "}\n",
      "description: \"Worker released\"\n",
      "worker_released {\n",
      "  zone: \"us-central1-a\"\n",
      "  instance: \"google-pipelines-worker-bb47304c7fec65b9c2c9cfc0acbdd59c\"\n",
      "}\n",
      "\n",
      "timestamp {\n",
      "  seconds: 1644094339\n",
      "  nanos: 868983201\n",
      "}\n",
      "description: \"Stopped running \\\"alphafold-inference\\\"\"\n",
      "container_stopped {\n",
      "  action_id: 1\n",
      "}\n",
      "\n",
      "timestamp {\n",
      "  seconds: 1644094338\n",
      "  nanos: 582946824\n",
      "}\n",
      "description: \"Started running \\\"alphafold-inference\\\"\"\n",
      "container_started {\n",
      "  action_id: 1\n",
      "}\n",
      "\n",
      "timestamp {\n",
      "  seconds: 1644094333\n",
      "  nanos: 401199391\n",
      "}\n",
      "description: \"Stopped pulling \\\"gcr.io/jk-mlops-dev/alphafold-inference\\\"\"\n",
      "pull_stopped {\n",
      "  image_uri: \"gcr.io/jk-mlops-dev/alphafold-inference\"\n",
      "}\n",
      "\n"
     ]
    }
   ],
   "source": [
    "pipeline_runner = cls_runner.PipelineRunner(PROJECT, REGION)\n",
    "\n",
    "pipeline = {\n",
    "        \"actions\": [\n",
    "            {\n",
    "                \"container_name\": 'alphafold-inference',\n",
    "                \"image_uri\": 'gcr.io/jk-mlops-dev/alphafold-inference',\n",
    "                \"commands\": [\n",
    "                        'echo', 'hello' \n",
    "                ],\n",
    "                #\"entrypoint\": '/bin/bash',\n",
    "            },\n",
    "        ],\n",
    "        \"resources\": {\n",
    "            \"regions\": [\"us-central1\"],\n",
    "            \"virtual_machine\": {\n",
    "                \"machine_type\": \"n1-standard-4\",\n",
    "                'boot_disk_size_gb': 500,\n",
    "            },\n",
    "        }\n",
    "    }\n",
    "    \n",
    "\n",
    "    \n",
    "\n",
    "lro = pipeline_runner.run_pipeline(pipeline)"
   ]
  },
  {
   "cell_type": "code",
   "execution_count": 12,
   "metadata": {},
   "outputs": [
    {
     "name": "stdout",
     "output_type": "stream",
     "text": [
      "[timestamp {\n",
      "  seconds: 1644089280\n",
      "  nanos: 357670307\n",
      "}\n",
      "description: \"Worker released\"\n",
      "worker_released {\n",
      "  zone: \"us-central1-c\"\n",
      "  instance: \"google-pipelines-worker-14a464a2534014924773df492c3b8ab9\"\n",
      "}\n",
      ", timestamp {\n",
      "  seconds: 1644089279\n",
      "  nanos: 830688097\n",
      "}\n",
      "description: \"The operation was cancelled\"\n",
      "failed {\n",
      "  code: CANCELLED\n",
      "  cause: \"The operation was cancelled\"\n",
      "}\n",
      ", timestamp {\n",
      "  seconds: 1644089205\n",
      "  nanos: 7519021\n",
      "}\n",
      "description: \"Started pulling \\\"gcr.io/jk-mlops-dev/alphafold-inference\\\"\"\n",
      "pull_started {\n",
      "  image_uri: \"gcr.io/jk-mlops-dev/alphafold-inference\"\n",
      "}\n",
      ", timestamp {\n",
      "  seconds: 1644089162\n",
      "  nanos: 173128162\n",
      "}\n",
      "description: \"Worker \\\"google-pipelines-worker-14a464a2534014924773df492c3b8ab9\\\" assigned in \\\"us-central1-c\\\" on a \\\"n1-standard-4\\\" machine\"\n",
      "worker_assigned {\n",
      "  zone: \"us-central1-c\"\n",
      "  instance: \"google-pipelines-worker-14a464a2534014924773df492c3b8ab9\"\n",
      "  machine_type: \"n1-standard-4\"\n",
      "}\n",
      ", timestamp {\n",
      "  seconds: 1644089149\n",
      "  nanos: 393084655\n",
      "}\n",
      "description: \"Worker released\"\n",
      "worker_released {\n",
      "  zone: \"us-central1-a\"\n",
      "  instance: \"google-pipelines-worker-a99c85fbcdf5a76e063c21f2c081e1e2\"\n",
      "}\n",
      ", timestamp {\n",
      "  seconds: 1644088548\n",
      "  nanos: 283199663\n",
      "}\n",
      "description: \"Worker \\\"google-pipelines-worker-a99c85fbcdf5a76e063c21f2c081e1e2\\\" assigned in \\\"us-central1-a\\\" on a \\\"n1-standard-4\\\" machine\"\n",
      "worker_assigned {\n",
      "  zone: \"us-central1-a\"\n",
      "  instance: \"google-pipelines-worker-a99c85fbcdf5a76e063c21f2c081e1e2\"\n",
      "  machine_type: \"n1-standard-4\"\n",
      "}\n",
      "]\n"
     ]
    }
   ],
   "source": [
    "print(lro.events)\n"
   ]
  },
  {
   "cell_type": "code",
   "execution_count": null,
   "metadata": {},
   "outputs": [],
   "source": [
    "Operation.deserialize(lro.operation.metadata)"
   ]
  },
  {
   "cell_type": "code",
   "execution_count": null,
   "metadata": {},
   "outputs": [],
   "source": [
    "Operation.deserialize(lro.operation)"
   ]
  },
  {
   "cell_type": "code",
   "execution_count": null,
   "metadata": {},
   "outputs": [],
   "source": [
    "lro == any"
   ]
  },
  {
   "cell_type": "code",
   "execution_count": null,
   "metadata": {},
   "outputs": [],
   "source": [
    "type(lro)"
   ]
  },
  {
   "cell_type": "code",
   "execution_count": null,
   "metadata": {},
   "outputs": [],
   "source": []
  }
 ],
 "metadata": {
  "interpreter": {
   "hash": "d4d1e4263499bec80672ea0156c357c1ee493ec2b1c70f0acce89fc37c4a6abe"
  },
  "kernelspec": {
   "display_name": "Python 3.7.12 ('base')",
   "language": "python",
   "name": "python3"
  },
  "language_info": {
   "codemirror_mode": {
    "name": "ipython",
    "version": 3
   },
   "file_extension": ".py",
   "mimetype": "text/x-python",
   "name": "python",
   "nbconvert_exporter": "python",
   "pygments_lexer": "ipython3",
   "version": "3.7.12"
  },
  "orig_nbformat": 4
 },
 "nbformat": 4,
 "nbformat_minor": 2
}
