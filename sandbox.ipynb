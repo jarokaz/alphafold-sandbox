{
 "cells": [
  {
   "cell_type": "code",
   "execution_count": null,
   "metadata": {},
   "outputs": [],
   "source": [
    "# Sandbox"
   ]
  },
  {
   "cell_type": "code",
   "execution_count": 1,
   "metadata": {},
   "outputs": [],
   "source": [
    "PROJECT_ID = 'jk-mlops-dev'\n",
    "REGION = 'us-central1'\n",
    "STAGING_BUCKET = 'gs://jk-vertex-staging'\n",
    "VERTEX_SA = f'vertex-sa@{PROJECT_ID}.iam.gserviceaccount.com'"
   ]
  },
  {
   "cell_type": "code",
   "execution_count": 2,
   "metadata": {},
   "outputs": [],
   "source": [
    "import os\n",
    "import sys\n",
    "\n",
    "import google.cloud.aiplatform as aip\n",
    "\n",
    "from datetime import datetime\n",
    "import kfp\n",
    "\n",
    "from kfp.v2 import components\n",
    "from kfp.v2 import dsl\n",
    "from kfp.v2 import compiler\n",
    "from kfp.v2.dsl import component\n",
    "\n"
   ]
  },
  {
   "cell_type": "code",
   "execution_count": 3,
   "metadata": {},
   "outputs": [],
   "source": [
    "aip.init(project=PROJECT_ID, staging_bucket=f'{STAGING_BUCKET}/alphafold_sandbox')"
   ]
  },
  {
   "cell_type": "code",
   "execution_count": 4,
   "metadata": {},
   "outputs": [
    {
     "data": {
      "text/plain": [
       "\"\\nname: Run alphafold\\ndescription: Runs alphafold\\n\\nimplementation:\\n  container:\\n    image: gcr.io/jk-mlops-dev/alphafold\\n    args: [\\n        '--data_dir=/gcs/jk-alphafold-datasets-archive/nov-2021',\\n        '--fasta_paths=/gcs/jk-alphafold-datasets-archive/nov-2021/fasta_paths/T1050.fasta',\\n        '--uniref90_database_path=/gcs/jk-alphafold-datasets-archive/nov-2021/uniref90/uniref90.fasta',\\n        '--mgnify_database_path=/gcs/jk-alphafold-datasets-archive/nov-2021/mgnify/mgy_clusters.fa',\\n        '--template_mmcif_dir=/gcs/jk-alphafold-datasets-archive/nov-2021/pdb_mmcif/mmcif_files',\\n        '--obsolete_pdbs_path=/gcs/jk-alphafold-datasets-archive/nov-2021/pdb_mmcif/obsolete.dat',\\n        '--pdb70_database_path=/gcs/jk-alphafold-datasets-archive/nov-2021/pdb70/pdb70',\\n        '--uniclust30_database_path=/gcs/jk-alphafold-datasets-archive/nov-2021/uniclust30/uniclust30_2018_08/uniclust30_2018_08',\\n        '--bfd_database_path=/gcs/jk-alphafold-datasets-archive/nov-2021/bfd/bfd_metaclust_clu_complete_id30_c90_final_seq.sorted_opt',\\n        '--output_dir=/gcs/jk-alphafold-datasets-archive/nov-2021/output',\\n        '--max_template_date=2020-05-14',\\n        '--db_preset=full_dbs',\\n        '--model_preset=monomer',\\n        '--benchmark=False',\\n        '--use_precomputed_msas=False',\\n        '--run_relax=True',\\n        '--use_gpu_relax=True',\\n        '--logtostderr', \\n    ]\\n\\n\""
      ]
     },
     "execution_count": 4,
     "metadata": {},
     "output_type": "execute_result"
    }
   ],
   "source": [
    "IMAGE_NAME = 'gcr.io/jk-mlops-dev/alphafold'\n",
    "ROOT_DIR = '/gcs/jk-alphafold-datasets-archive/nov-2021'\n",
    "\n",
    "data_dir = f'{ROOT_DIR}'\n",
    "target_fasta_paths = [f'{ROOT_DIR}/fasta/T1031.fasta']\n",
    "uniref90_database_path = f'{ROOT_DIR}/uniref90/uniref90.fasta'\n",
    "uniprot_database_path = f'{ROOT_DIR}/uniprot/uniprot.fasta'\n",
    "mgnify_database_path = f'{ROOT_DIR}/mgnify/mgy_clusters.fa'\n",
    "bfd_database_path = f'{ROOT_DIR}/bfd/bfd_metaclust_clu_complete_id30_c90_final_seq.sorted_opt'\n",
    "uniclust30_database_path = f'{ROOT_DIR}/uniclust30/uniclust30_2018_08/uniclust30_2018_08'\n",
    "pdb70_database_path = f'{ROOT_DIR}/pdb70/pdb70'\n",
    "template_mmcif_dir = f'{ROOT_DIR}/pdb_mmcif/mmcif_files'\n",
    "obsolete_pdbs_path = f'{ROOT_DIR}/pdb_mmcif/obsolete.dat'\n",
    "output_target_path = f'{ROOT_DIR}/output'\n",
    "max_template_date = '2020-05-14'\n",
    "db_preset = 'full_dbs'\n",
    "model_preset = 'monomer'\n",
    "benchmark = False\n",
    "use_precomputed_msas = False\n",
    "run_relax = True\n",
    "use_gpu_relax = True\n",
    "\n",
    "ARGUMENTS = [\n",
    "    f'--fasta_paths={\",\".join(target_fasta_paths)}',\n",
    "    f'--uniref90_database_path={uniref90_database_path}',\n",
    "    f'--mgnify_database_path={mgnify_database_path}',\n",
    "    f'--template_mmcif_dir={template_mmcif_dir}',\n",
    "    f'--obsolete_pdbs_path={obsolete_pdbs_path}',\n",
    "    f'--pdb70_database_path={pdb70_database_path}',\n",
    "    f'--uniclust30_database_path={uniclust30_database_path}',\n",
    "    f'--bfd_database_path={bfd_database_path}',\n",
    "    f'--output_dir={output_target_path}',\n",
    "    f'--max_template_date={max_template_date}',\n",
    "    f'--db_preset={db_preset}',\n",
    "    f'--model_preset={model_preset}',\n",
    "    f'--benchmark={benchmark}',\n",
    "    f'--use_precomputed_msas={use_precomputed_msas}',\n",
    "    f'--run_relax={run_relax}',\n",
    "    f'--use_gpu_relax={use_gpu_relax}',\n",
    "    '--logtostderr',\n",
    "]\n",
    "\n",
    "component_spec = f\"\"\"\n",
    "name: Run alphafold\n",
    "description: Runs alphafold\n",
    "\n",
    "implementation:\n",
    "  container:\n",
    "    image: {IMAGE_NAME}\n",
    "    args: [\n",
    "        '--data_dir={data_dir}',\n",
    "        '--fasta_paths={\",\".join(target_fasta_paths)}',\n",
    "        '--uniref90_database_path={uniref90_database_path}',\n",
    "        '--mgnify_database_path={mgnify_database_path}',\n",
    "        '--template_mmcif_dir={template_mmcif_dir}',\n",
    "        '--obsolete_pdbs_path={obsolete_pdbs_path}',\n",
    "        '--pdb70_database_path={pdb70_database_path}',\n",
    "        '--uniclust30_database_path={uniclust30_database_path}',\n",
    "        '--bfd_database_path={bfd_database_path}',\n",
    "        '--output_dir={output_target_path}',\n",
    "        '--max_template_date={max_template_date}',\n",
    "        '--db_preset={db_preset}',\n",
    "        '--model_preset={model_preset}',\n",
    "        '--benchmark={benchmark}',\n",
    "        '--use_precomputed_msas={use_precomputed_msas}',\n",
    "        '--run_relax={run_relax}',\n",
    "        '--use_gpu_relax={use_gpu_relax}',\n",
    "        '--logtostderr', \n",
    "    ]\n",
    "\n",
    "\"\"\"\n",
    "\n",
    "component_spec"
   ]
  },
  {
   "cell_type": "code",
   "execution_count": 5,
   "metadata": {},
   "outputs": [
    {
     "name": "stderr",
     "output_type": "stream",
     "text": [
      "/opt/conda/lib/python3.7/site-packages/kfp/components/_components.py:198: FutureWarning: Container component must specify command to be compatible with KFP v2 compatible mode and emissary executor, which will be the default executor for KFP v2.https://www.kubeflow.org/docs/components/pipelines/installation/choose-executor/\n",
      "  category=FutureWarning,\n"
     ]
    }
   ],
   "source": [
    "run_alphafold_op = kfp.components.load_component_from_text(component_spec)\n",
    "\n",
    "@dsl.pipeline(name=\"alphafold-test\")\n",
    "def pipeline():\n",
    "    run_alphafold_step = run_alphafold_op()\n",
    "\n",
    "    run_alphafold_step.set_cpu_limit('24')\n",
    "    run_alphafold_step.set_memory_limit('80G')\n",
    "    run_alphafold_step.set_env_variable(\n",
    "        name='NVIDIA_VISIBLE_DEVICES', value='all')\n",
    "    run_alphafold_step.set_env_variable(\n",
    "        name='TF_FORCE_UNIFIED_MEMORY', value='1')\n",
    "    run_alphafold_step.set_env_variable(\n",
    "        name='XLA_PYTHON_CLIENT_MEM_FRACTION', value='4.0')\n",
    "\n"
   ]
  },
  {
   "cell_type": "code",
   "execution_count": 6,
   "metadata": {},
   "outputs": [
    {
     "name": "stderr",
     "output_type": "stream",
     "text": [
      "/opt/conda/lib/python3.7/site-packages/kfp/v2/compiler/compiler.py:1266: FutureWarning: APIs imported from the v1 namespace (e.g. kfp.dsl, kfp.components, etc) will not be supported by the v2 compiler since v2.0.0\n",
      "  category=FutureWarning,\n"
     ]
    }
   ],
   "source": [
    "compiler.Compiler().compile(\n",
    "    pipeline_func=pipeline, package_path=\"custom_model_training_spec.json\"\n",
    ")\n",
    "\n"
   ]
  },
  {
   "cell_type": "code",
   "execution_count": 7,
   "metadata": {},
   "outputs": [
    {
     "name": "stdout",
     "output_type": "stream",
     "text": [
      "INFO:google.cloud.aiplatform.pipeline_jobs:Creating PipelineJob\n",
      "INFO:google.cloud.aiplatform.pipeline_jobs:PipelineJob created. Resource name: projects/895222332033/locations/us-central1/pipelineJobs/alphafold-test-20220203142017\n",
      "INFO:google.cloud.aiplatform.pipeline_jobs:To use this PipelineJob in another session:\n",
      "INFO:google.cloud.aiplatform.pipeline_jobs:pipeline_job = aiplatform.PipelineJob.get('projects/895222332033/locations/us-central1/pipelineJobs/alphafold-test-20220203142017')\n",
      "INFO:google.cloud.aiplatform.pipeline_jobs:View Pipeline Job:\n",
      "https://console.cloud.google.com/vertex-ai/locations/us-central1/pipelines/runs/alphafold-test-20220203142017?project=895222332033\n",
      "INFO:google.cloud.aiplatform.pipeline_jobs:PipelineJob projects/895222332033/locations/us-central1/pipelineJobs/alphafold-test-20220203142017 current state:\n",
      "PipelineState.PIPELINE_STATE_RUNNING\n",
      "INFO:google.cloud.aiplatform.pipeline_jobs:PipelineJob projects/895222332033/locations/us-central1/pipelineJobs/alphafold-test-20220203142017 current state:\n",
      "PipelineState.PIPELINE_STATE_RUNNING\n",
      "INFO:google.cloud.aiplatform.pipeline_jobs:PipelineJob projects/895222332033/locations/us-central1/pipelineJobs/alphafold-test-20220203142017 current state:\n",
      "PipelineState.PIPELINE_STATE_RUNNING\n",
      "INFO:google.cloud.aiplatform.pipeline_jobs:PipelineJob projects/895222332033/locations/us-central1/pipelineJobs/alphafold-test-20220203142017 current state:\n",
      "PipelineState.PIPELINE_STATE_RUNNING\n",
      "INFO:google.cloud.aiplatform.pipeline_jobs:PipelineJob projects/895222332033/locations/us-central1/pipelineJobs/alphafold-test-20220203142017 current state:\n",
      "PipelineState.PIPELINE_STATE_RUNNING\n",
      "INFO:google.cloud.aiplatform.pipeline_jobs:PipelineJob projects/895222332033/locations/us-central1/pipelineJobs/alphafold-test-20220203142017 current state:\n",
      "PipelineState.PIPELINE_STATE_RUNNING\n"
     ]
    },
    {
     "ename": "RuntimeError",
     "evalue": "Job failed with:\ncode: 9\nmessage: \"The DAG failed because some tasks failed. The failed tasks are: [run-alphafold].; Job (project_id = jk-mlops-dev, job_id = 6242433286233128960) is failed due to the above error.; Failed to handle the job: {project_number = 895222332033, job_id = 6242433286233128960}\"\n",
     "output_type": "error",
     "traceback": [
      "\u001b[0;31m---------------------------------------------------------------------------\u001b[0m",
      "\u001b[0;31mRuntimeError\u001b[0m                              Traceback (most recent call last)",
      "\u001b[0;32m/tmp/ipykernel_7178/1710897206.py\u001b[0m in \u001b[0;36m<module>\u001b[0;34m\u001b[0m\n\u001b[1;32m      8\u001b[0m )\n\u001b[1;32m      9\u001b[0m \u001b[0;34m\u001b[0m\u001b[0m\n\u001b[0;32m---> 10\u001b[0;31m \u001b[0mjob\u001b[0m\u001b[0;34m.\u001b[0m\u001b[0mrun\u001b[0m\u001b[0;34m(\u001b[0m\u001b[0mservice_account\u001b[0m\u001b[0;34m=\u001b[0m\u001b[0mVERTEX_SA\u001b[0m\u001b[0;34m)\u001b[0m\u001b[0;34m\u001b[0m\u001b[0;34m\u001b[0m\u001b[0m\n\u001b[0m",
      "\u001b[0;32m/opt/conda/lib/python3.7/site-packages/google/cloud/aiplatform/base.py\u001b[0m in \u001b[0;36mwrapper\u001b[0;34m(*args, **kwargs)\u001b[0m\n\u001b[1;32m    728\u001b[0m                 \u001b[0;32mif\u001b[0m \u001b[0mself\u001b[0m\u001b[0;34m:\u001b[0m\u001b[0;34m\u001b[0m\u001b[0;34m\u001b[0m\u001b[0m\n\u001b[1;32m    729\u001b[0m                     \u001b[0mVertexAiResourceNounWithFutureManager\u001b[0m\u001b[0;34m.\u001b[0m\u001b[0mwait\u001b[0m\u001b[0;34m(\u001b[0m\u001b[0mself\u001b[0m\u001b[0;34m)\u001b[0m\u001b[0;34m\u001b[0m\u001b[0;34m\u001b[0m\u001b[0m\n\u001b[0;32m--> 730\u001b[0;31m                 \u001b[0;32mreturn\u001b[0m \u001b[0mmethod\u001b[0m\u001b[0;34m(\u001b[0m\u001b[0;34m*\u001b[0m\u001b[0margs\u001b[0m\u001b[0;34m,\u001b[0m \u001b[0;34m**\u001b[0m\u001b[0mkwargs\u001b[0m\u001b[0;34m)\u001b[0m\u001b[0;34m\u001b[0m\u001b[0;34m\u001b[0m\u001b[0m\n\u001b[0m\u001b[1;32m    731\u001b[0m \u001b[0;34m\u001b[0m\u001b[0m\n\u001b[1;32m    732\u001b[0m             \u001b[0;31m# callbacks to call within the Future (in same Thread)\u001b[0m\u001b[0;34m\u001b[0m\u001b[0;34m\u001b[0m\u001b[0;34m\u001b[0m\u001b[0m\n",
      "\u001b[0;32m/opt/conda/lib/python3.7/site-packages/google/cloud/aiplatform/pipeline_jobs.py\u001b[0m in \u001b[0;36mrun\u001b[0;34m(self, service_account, network, sync)\u001b[0m\n\u001b[1;32m    250\u001b[0m         \u001b[0mself\u001b[0m\u001b[0;34m.\u001b[0m\u001b[0msubmit\u001b[0m\u001b[0;34m(\u001b[0m\u001b[0mservice_account\u001b[0m\u001b[0;34m=\u001b[0m\u001b[0mservice_account\u001b[0m\u001b[0;34m,\u001b[0m \u001b[0mnetwork\u001b[0m\u001b[0;34m=\u001b[0m\u001b[0mnetwork\u001b[0m\u001b[0;34m)\u001b[0m\u001b[0;34m\u001b[0m\u001b[0;34m\u001b[0m\u001b[0m\n\u001b[1;32m    251\u001b[0m \u001b[0;34m\u001b[0m\u001b[0m\n\u001b[0;32m--> 252\u001b[0;31m         \u001b[0mself\u001b[0m\u001b[0;34m.\u001b[0m\u001b[0m_block_until_complete\u001b[0m\u001b[0;34m(\u001b[0m\u001b[0;34m)\u001b[0m\u001b[0;34m\u001b[0m\u001b[0;34m\u001b[0m\u001b[0m\n\u001b[0m\u001b[1;32m    253\u001b[0m \u001b[0;34m\u001b[0m\u001b[0m\n\u001b[1;32m    254\u001b[0m     def submit(\n",
      "\u001b[0;32m/opt/conda/lib/python3.7/site-packages/google/cloud/aiplatform/pipeline_jobs.py\u001b[0m in \u001b[0;36m_block_until_complete\u001b[0;34m(self)\u001b[0m\n\u001b[1;32m    347\u001b[0m         \u001b[0;31m# JOB_STATE_FAILED or JOB_STATE_CANCELLED.\u001b[0m\u001b[0;34m\u001b[0m\u001b[0;34m\u001b[0m\u001b[0;34m\u001b[0m\u001b[0m\n\u001b[1;32m    348\u001b[0m         \u001b[0;32mif\u001b[0m \u001b[0mself\u001b[0m\u001b[0;34m.\u001b[0m\u001b[0m_gca_resource\u001b[0m\u001b[0;34m.\u001b[0m\u001b[0mstate\u001b[0m \u001b[0;32min\u001b[0m \u001b[0m_PIPELINE_ERROR_STATES\u001b[0m\u001b[0;34m:\u001b[0m\u001b[0;34m\u001b[0m\u001b[0;34m\u001b[0m\u001b[0m\n\u001b[0;32m--> 349\u001b[0;31m             \u001b[0;32mraise\u001b[0m \u001b[0mRuntimeError\u001b[0m\u001b[0;34m(\u001b[0m\u001b[0;34m\"Job failed with:\\n%s\"\u001b[0m \u001b[0;34m%\u001b[0m \u001b[0mself\u001b[0m\u001b[0;34m.\u001b[0m\u001b[0m_gca_resource\u001b[0m\u001b[0;34m.\u001b[0m\u001b[0merror\u001b[0m\u001b[0;34m)\u001b[0m\u001b[0;34m\u001b[0m\u001b[0;34m\u001b[0m\u001b[0m\n\u001b[0m\u001b[1;32m    350\u001b[0m         \u001b[0;32melse\u001b[0m\u001b[0;34m:\u001b[0m\u001b[0;34m\u001b[0m\u001b[0;34m\u001b[0m\u001b[0m\n\u001b[1;32m    351\u001b[0m             \u001b[0m_LOGGER\u001b[0m\u001b[0;34m.\u001b[0m\u001b[0mlog_action_completed_against_resource\u001b[0m\u001b[0;34m(\u001b[0m\u001b[0;34m\"run\"\u001b[0m\u001b[0;34m,\u001b[0m \u001b[0;34m\"completed\"\u001b[0m\u001b[0;34m,\u001b[0m \u001b[0mself\u001b[0m\u001b[0;34m)\u001b[0m\u001b[0;34m\u001b[0m\u001b[0;34m\u001b[0m\u001b[0m\n",
      "\u001b[0;31mRuntimeError\u001b[0m: Job failed with:\ncode: 9\nmessage: \"The DAG failed because some tasks failed. The failed tasks are: [run-alphafold].; Job (project_id = jk-mlops-dev, job_id = 6242433286233128960) is failed due to the above error.; Failed to handle the job: {project_number = 895222332033, job_id = 6242433286233128960}\"\n"
     ]
    }
   ],
   "source": [
    "DISPLAY_NAME = \"alphafold_test_\" + datetime.now().strftime(\"%Y%m%d%H%M%S\")\n",
    "PIPELINE_ROOT = f'{STAGING_BUCKET}/alphafold/pipeline_root'\n",
    "\n",
    "job = aip.PipelineJob(\n",
    "    display_name=DISPLAY_NAME,\n",
    "    template_path=\"custom_model_training_spec.json\",\n",
    "    pipeline_root=PIPELINE_ROOT,\n",
    ")\n",
    "\n",
    "job.run(service_account=VERTEX_SA)"
   ]
  },
  {
   "cell_type": "code",
   "execution_count": null,
   "metadata": {},
   "outputs": [],
   "source": []
  }
 ],
 "metadata": {
  "interpreter": {
   "hash": "d4d1e4263499bec80672ea0156c357c1ee493ec2b1c70f0acce89fc37c4a6abe"
  },
  "kernelspec": {
   "display_name": "Python 3.7.12 64-bit ('base': conda)",
   "language": "python",
   "name": "python3"
  },
  "language_info": {
   "codemirror_mode": {
    "name": "ipython",
    "version": 3
   },
   "file_extension": ".py",
   "mimetype": "text/x-python",
   "name": "python",
   "nbconvert_exporter": "python",
   "pygments_lexer": "ipython3",
   "version": "3.7.12"
  },
  "orig_nbformat": 4
 },
 "nbformat": 4,
 "nbformat_minor": 2
}
